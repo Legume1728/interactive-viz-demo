{
 "cells": [
  {
   "cell_type": "code",
   "execution_count": null,
   "metadata": {},
   "outputs": [],
   "source": [
    "import polars as pl\n",
    "\n",
    "from sklearn import set_config\n",
    "from sklearn.model_selection import train_test_split\n",
    "from sklearn.compose import make_column_transformer\n",
    "from sklearn.pipeline import make_pipeline\n",
    "from sklearn.impute import SimpleImputer\n",
    "from sklearn.preprocessing import OneHotEncoder, StandardScaler\n",
    "from sklearn.linear_model import LogisticRegression, SGDClassifier\n",
    "from sklearn.ensemble import RandomForestClassifier\n",
    "from sklearn.metrics import roc_auc_score, roc_curve\n",
    "from xgboost import XGBClassifier\n",
    "\n",
    "import seaborn as sns\n",
    "import matplotlib.pyplot as plt\n",
    "import ipywidgets as widgets\n"
   ]
  },
  {
   "cell_type": "code",
   "execution_count": null,
   "metadata": {},
   "outputs": [],
   "source": [
    "set_config(transform_output='polars')\n",
    "\n",
    "df = pl.read_csv('datasets/titanic_train.csv')\n",
    "df = df.rename({col: col.lower() for col in df.columns})"
   ]
  },
  {
   "cell_type": "code",
   "execution_count": null,
   "metadata": {},
   "outputs": [],
   "source": [
    "columns = ['age', 'fare', 'parch']\n",
    "dropdown = widgets.Dropdown(options=columns, value=columns[0])\n",
    "\n",
    "def plot(column):\n",
    "    fig, axes = plt.subplots(1, 2, figsize=(10, 5))\n",
    "    # sns.lineplot(data=df, x=column, y='survived')\n",
    "    sns.kdeplot(data=df, x=column, hue='survived', ax=axes[0])\n",
    "    sns.boxplot(data=df, x=column, hue='survived', ax=axes[1], showfliers=False)\n",
    "    plt.show()\n",
    "    agg_df = (\n",
    "        df.group_by('survived')\n",
    "            .agg([\n",
    "                pl.col(column).quantile(0.25).alias('25%'),\n",
    "                pl.col(column).median().alias('median'),\n",
    "                pl.col(column).quantile(0.75).alias('75%'),])\n",
    "            .sort('survived')\n",
    "    )\n",
    "    print(agg_df)\n",
    "\n",
    "widgets.interact(plot, column=dropdown)\n"
   ]
  },
  {
   "cell_type": "code",
   "execution_count": null,
   "metadata": {},
   "outputs": [],
   "source": [
    "cat_columns = [\"embarked\", \"sex\", \"pclass\"]\n",
    "dropdown = widgets.Dropdown(options=cat_columns, value=cat_columns[0])\n",
    "\n",
    "def plot(column):\n",
    "    agg_df = (\n",
    "        df.group_by(column)\n",
    "            .agg([\n",
    "                pl.sum('survived').alias('survived'),\n",
    "                pl.count('survived').alias('total'),\n",
    "                (pl.sum('survived') / pl.count('survived')).alias('survival_rate')\n",
    "            ])\n",
    "            .sort(column)\n",
    "    )\n",
    "\n",
    "    sns.barplot(data=agg_df, x=column, y='survival_rate')\n",
    "    plt.show()\n",
    "    print(agg_df)\n",
    "\n",
    "widgets.interact(plot, column=dropdown)"
   ]
  },
  {
   "cell_type": "code",
   "execution_count": null,
   "metadata": {},
   "outputs": [],
   "source": [
    "relevant_df = df.select(\n",
    "    pl.col('age').fill_null(strategy='mean'),\n",
    "    pl.col('fare').fill_null(strategy='mean'),\n",
    "    pl.col('survived'),\n",
    ")\n",
    "print('correlation with survived:')\n",
    "print(relevant_df.corr()[2])\n",
    "# sns.heatmap(correlation_matrix, annot=True, cmap='PuOr')"
   ]
  },
  {
   "cell_type": "code",
   "execution_count": null,
   "metadata": {},
   "outputs": [],
   "source": [
    "x_df = df.drop('survived')\n",
    "y_df = df['survived']\n",
    "x_train_df, x_test_df, y_train_df, y_test_df = train_test_split(x_df, y_df, stratify=y_df, random_state=0)\n",
    "x_train_df"
   ]
  },
  {
   "cell_type": "code",
   "execution_count": null,
   "metadata": {},
   "outputs": [],
   "source": [
    "ct = make_column_transformer(\n",
    "    (make_pipeline(SimpleImputer(), StandardScaler()), [\"age\", \"fare\"]),\n",
    "    (OneHotEncoder(sparse_output=False), [\"embarked\", \"sex\", \"pclass\"]),\n",
    "    verbose_feature_names_out=False)\n",
    "\n",
    "\n",
    "# Note: click on pipeline elements to see more details\n",
    "classifiers = {\n",
    "    'logistic_regression': LogisticRegression(),\n",
    "    'stochastic_gradient_descent': SGDClassifier(loss='log_loss'),\n",
    "    'random_forest': RandomForestClassifier(),\n",
    "    'xgboost': XGBClassifier() # see https://xgboost.readthedocs.io/en/stable/python/python_api.html#module-xgboost.sklearn for more parameters\n",
    "}\n",
    "\n",
    "from sklearn.metrics import roc_curve\n",
    "\n",
    "def run_pipeline_with_classifier(clf_name):\n",
    "    clf = make_pipeline(ct, classifiers[clf_name])\n",
    "    clf.fit(x_train_df, y_train_df)\n",
    "    print('Solver:', clf_name)\n",
    "    print()\n",
    "    print('Score: ', clf.score(x_test_df, y_test_df))\n",
    "\n",
    "    prob = clf.predict_proba(x_test_df)\n",
    "    fpr, tpr, thresholds = roc_curve(y_test_df, prob[:, 1])\n",
    "    sns.lineplot(x=fpr, y=tpr, errorbar=None)\n",
    "    plt.xlabel('False Positive Rate')\n",
    "    plt.ylabel('True Positive Rate')\n",
    "\n",
    "    auc_roc = roc_auc_score(y_test_df, prob[:, 1])\n",
    "    plt.fill_between(fpr, tpr, color=\"skyblue\", alpha=0.4)\n",
    "    print('AUC ROC:', auc_roc)\n",
    "\n",
    "classifiers_selector = widgets.Dropdown(options=classifiers.keys(), value='logistic_regression')\n",
    "widgets.interact(run_pipeline_with_classifier, clf_name=classifiers_selector)"
   ]
  },
  {
   "cell_type": "code",
   "execution_count": null,
   "metadata": {},
   "outputs": [],
   "source": [
    "n_estimators_widget = widgets.IntSlider(value=100, min=0, max=300, step=5)\n",
    "max_depth_widget = widgets.IntSlider(min=1, max=20, step=1)\n",
    "\n",
    "print('Performance of Random Forest with different hyperparameters:')\n",
    "def run_pipeline_with_random_forest(n_estimators, max_depth):\n",
    "    clf = make_pipeline(ct, RandomForestClassifier(n_estimators=n_estimators, max_depth=max_depth))\n",
    "    clf.fit(x_train_df, y_train_df)\n",
    "    print(clf.score(x_test_df, y_test_df))\n",
    "\n",
    "widgets.interact(run_pipeline_with_random_forest, n_estimators=n_estimators_widget, max_depth=max_depth_widget)\n"
   ]
  },
  {
   "cell_type": "code",
   "execution_count": null,
   "metadata": {},
   "outputs": [],
   "source": [
    "max_iter_widget = widgets.IntSlider(value=40, min=20, max=100, step=5)\n",
    "\n",
    "print('Performance of Logistic Regression with different hyperparameters:')\n",
    "def run_pipeline_with_logistic(max_iter):\n",
    "    clf = make_pipeline(ct, LogisticRegression(max_iter=max_iter))\n",
    "    clf.fit(x_train_df, y_train_df)\n",
    "    print('Score: ', clf.score(x_test_df, y_test_df))\n",
    "\n",
    "\n",
    "widgets.interact(run_pipeline_with_logistic, max_iter=max_iter_widget)\n"
   ]
  },
  {
   "cell_type": "code",
   "execution_count": null,
   "metadata": {},
   "outputs": [],
   "source": [
    "clf = make_pipeline(ct, LogisticRegression())\n",
    "clf.fit(x_train_df, y_train_df)\n",
    "prob = clf.predict_proba(x_test_df)\n",
    "print('score: ', clf.score(x_test_df, y_test_df))\n",
    "\n",
    "def convert_prob_to_df(prob):\n",
    "    return pl.DataFrame({str(clf.classes_[i]): list(prob[:, 0]) for i in range(len(clf.classes_))})\n",
    "\n",
    "prob_df = convert_prob_to_df(prob)\n",
    "sns.lineplot(data=prob_df['1'].sort())"
   ]
  },
  {
   "cell_type": "code",
   "execution_count": null,
   "metadata": {},
   "outputs": [],
   "source": [
    "from sklearn.metrics import confusion_matrix\n",
    "import seaborn as sns\n",
    "\n",
    "threshold_widget = widgets.FloatSlider(value=0.5, min=0, max=1, step=0.1)\n",
    "\n",
    "def show_confusion(threshold):\n",
    "    # probability of survival must be greater than threshold to predict survival\n",
    "    # c[1][0] is the number of those who survived but were predicted as not survived\n",
    "\n",
    "    prob = clf.predict_proba(x_test_df)\n",
    "    y_pred = [1 if row[1] > threshold else 0 for row in prob]\n",
    "    cm = confusion_matrix(y_test_df, y_pred)\n",
    "    sns.heatmap(cm, annot=True, cmap='Blues', fmt='g')\n",
    "    plt.xlabel('predicted survived')\n",
    "    plt.ylabel('actual survived')\n",
    "\n",
    "widgets.interact(show_confusion, threshold=threshold_widget)"
   ]
  },
  {
   "cell_type": "code",
   "execution_count": null,
   "metadata": {},
   "outputs": [],
   "source": []
  }
 ],
 "metadata": {
  "kernelspec": {
   "display_name": "venv",
   "language": "python",
   "name": "python3"
  },
  "language_info": {
   "codemirror_mode": {
    "name": "ipython",
    "version": 3
   },
   "file_extension": ".py",
   "mimetype": "text/x-python",
   "name": "python",
   "nbconvert_exporter": "python",
   "pygments_lexer": "ipython3",
   "version": "3.10.12"
  }
 },
 "nbformat": 4,
 "nbformat_minor": 2
}
