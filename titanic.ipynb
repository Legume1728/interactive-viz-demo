{
 "cells": [
  {
   "cell_type": "code",
   "execution_count": 115,
   "metadata": {},
   "outputs": [],
   "source": [
    "import polars as pl\n",
    "\n",
    "from sklearn import set_config\n",
    "from sklearn.model_selection import train_test_split\n",
    "from sklearn.compose import make_column_transformer\n",
    "from sklearn.pipeline import make_pipeline\n",
    "from sklearn.impute import SimpleImputer\n",
    "from sklearn.preprocessing import OneHotEncoder, StandardScaler\n",
    "from sklearn.linear_model import LogisticRegression, SGDClassifier\n",
    "from sklearn.ensemble import RandomForestClassifier\n",
    "from xgboost import XGBClassifier\n",
    "\n",
    "import seaborn as sns\n",
    "import matplotlib.pyplot as plt\n",
    "import ipywidgets as widgets\n"
   ]
  },
  {
   "cell_type": "code",
   "execution_count": 116,
   "metadata": {},
   "outputs": [],
   "source": [
    "set_config(transform_output='polars')\n",
    "\n",
    "df = pl.read_csv('datasets/titanic_train.csv')\n",
    "df = df.rename({col: col.lower() for col in df.columns})"
   ]
  },
  {
   "cell_type": "code",
   "execution_count": 117,
   "metadata": {},
   "outputs": [
    {
     "data": {
      "application/vnd.jupyter.widget-view+json": {
       "model_id": "d90355372a15413cb4bdaa8afe5a67a9",
       "version_major": 2,
       "version_minor": 0
      },
      "text/plain": [
       "interactive(children=(Dropdown(description='column', options=('age', 'fare', 'parch'), value='age'), Output())…"
      ]
     },
     "metadata": {},
     "output_type": "display_data"
    },
    {
     "data": {
      "text/plain": [
       "<function __main__.plot(column)>"
      ]
     },
     "execution_count": 117,
     "metadata": {},
     "output_type": "execute_result"
    }
   ],
   "source": [
    "columns = ['age', 'fare', 'parch']\n",
    "dropdown = widgets.Dropdown(options=columns, value=columns[0])\n",
    "\n",
    "def plot(column):\n",
    "    fig, axes = plt.subplots(1, 2, figsize=(10, 5))\n",
    "    # sns.lineplot(data=df, x=column, y='survived')\n",
    "    sns.kdeplot(data=df, x=column, hue='survived', ax=axes[0])\n",
    "    sns.boxplot(data=df, x=column, hue='survived', ax=axes[1], showfliers=False)\n",
    "    plt.show()\n",
    "    agg_df = (\n",
    "        df.group_by('survived')\n",
    "            .agg([\n",
    "                pl.col(column).quantile(0.25).alias('25%'),\n",
    "                pl.col(column).median().alias('median'),\n",
    "                pl.col(column).quantile(0.75).alias('75%'),])\n",
    "            .sort('survived')\n",
    "    )\n",
    "    print(agg_df)\n",
    "\n",
    "widgets.interact(plot, column=dropdown)\n"
   ]
  },
  {
   "cell_type": "code",
   "execution_count": 156,
   "metadata": {},
   "outputs": [
    {
     "data": {
      "application/vnd.jupyter.widget-view+json": {
       "model_id": "ac3d54507aa24f2da33ee3d8c6974d1e",
       "version_major": 2,
       "version_minor": 0
      },
      "text/plain": [
       "interactive(children=(Dropdown(description='column', options=('embarked', 'sex', 'pclass'), value='embarked'),…"
      ]
     },
     "metadata": {},
     "output_type": "display_data"
    },
    {
     "data": {
      "text/plain": [
       "<function __main__.plot(column)>"
      ]
     },
     "execution_count": 156,
     "metadata": {},
     "output_type": "execute_result"
    }
   ],
   "source": [
    "cat_columns = [\"embarked\", \"sex\", \"pclass\"]\n",
    "dropdown = widgets.Dropdown(options=columns, value=cat_columns[0])\n",
    "\n",
    "def plot(column):\n",
    "    agg_df = (\n",
    "        df.group_by(column, null_handling='include')\n",
    "            .agg([\n",
    "                pl.sum('survived').alias('survived'),\n",
    "                pl.count('survived').alias('total'),\n",
    "                (pl.sum('survived') / pl.count('survived')).alias('survival_rate')\n",
    "            ])\n",
    "            .sort(column)\n",
    "    )\n",
    "\n",
    "    sns.barplot(data=agg_df, x=column, y='survival_rate')\n",
    "    plt.show()\n",
    "    print(agg_df)\n",
    "\n",
    "widgets.interact(plot, column=dropdown)"
   ]
  },
  {
   "cell_type": "code",
   "execution_count": 181,
   "metadata": {},
   "outputs": [
    {
     "name": "stdout",
     "output_type": "stream",
     "text": [
      "correlation with survived:\n",
      "shape: (1, 3)\n",
      "┌───────────┬──────────┬──────────┐\n",
      "│ age       ┆ fare     ┆ survived │\n",
      "│ ---       ┆ ---      ┆ ---      │\n",
      "│ f64       ┆ f64      ┆ f64      │\n",
      "╞═══════════╪══════════╪══════════╡\n",
      "│ -0.069809 ┆ 0.257307 ┆ 1.0      │\n",
      "└───────────┴──────────┴──────────┘\n"
     ]
    }
   ],
   "source": [
    "relevant_df = df.select(\n",
    "    pl.col('age').fill_null(strategy='mean'),\n",
    "    pl.col('fare').fill_null(strategy='mean'),\n",
    "    pl.col('survived'),\n",
    ")\n",
    "print('correlation with survived:')\n",
    "print(relevant_df.corr()[2])\n",
    "# sns.heatmap(correlation_matrix, annot=True, cmap='PuOr')"
   ]
  },
  {
   "cell_type": "code",
   "execution_count": 118,
   "metadata": {},
   "outputs": [
    {
     "data": {
      "text/html": [
       "<div><style>\n",
       ".dataframe > thead > tr,\n",
       ".dataframe > tbody > tr {\n",
       "  text-align: right;\n",
       "  white-space: pre-wrap;\n",
       "}\n",
       "</style>\n",
       "<small>shape: (668, 11)</small><table border=\"1\" class=\"dataframe\"><thead><tr><th>passengerid</th><th>pclass</th><th>name</th><th>sex</th><th>age</th><th>sibsp</th><th>parch</th><th>ticket</th><th>fare</th><th>cabin</th><th>embarked</th></tr><tr><td>i64</td><td>i64</td><td>str</td><td>str</td><td>f64</td><td>i64</td><td>i64</td><td>str</td><td>f64</td><td>str</td><td>str</td></tr></thead><tbody><tr><td>672</td><td>1</td><td>&quot;Davidson, Mr. Thornton&quot;</td><td>&quot;male&quot;</td><td>31.0</td><td>1</td><td>0</td><td>&quot;F.C. 12750&quot;</td><td>52.0</td><td>&quot;B71&quot;</td><td>&quot;S&quot;</td></tr><tr><td>418</td><td>2</td><td>&quot;Silven, Miss. Lyyli Karoliina&quot;</td><td>&quot;female&quot;</td><td>18.0</td><td>0</td><td>2</td><td>&quot;250652&quot;</td><td>13.0</td><td>null</td><td>&quot;S&quot;</td></tr><tr><td>635</td><td>3</td><td>&quot;Skoog, Miss. Mabel&quot;</td><td>&quot;female&quot;</td><td>9.0</td><td>3</td><td>2</td><td>&quot;347088&quot;</td><td>27.9</td><td>null</td><td>&quot;S&quot;</td></tr><tr><td>324</td><td>2</td><td>&quot;Caldwell, Mrs. Albert Francis …</td><td>&quot;female&quot;</td><td>22.0</td><td>1</td><td>1</td><td>&quot;248738&quot;</td><td>29.0</td><td>null</td><td>&quot;S&quot;</td></tr><tr><td>380</td><td>3</td><td>&quot;Gustafsson, Mr. Karl Gideon&quot;</td><td>&quot;male&quot;</td><td>19.0</td><td>0</td><td>0</td><td>&quot;347069&quot;</td><td>7.775</td><td>null</td><td>&quot;S&quot;</td></tr><tr><td>&hellip;</td><td>&hellip;</td><td>&hellip;</td><td>&hellip;</td><td>&hellip;</td><td>&hellip;</td><td>&hellip;</td><td>&hellip;</td><td>&hellip;</td><td>&hellip;</td><td>&hellip;</td></tr><tr><td>132</td><td>3</td><td>&quot;Coelho, Mr. Domingos Fernandeo&quot;</td><td>&quot;male&quot;</td><td>20.0</td><td>0</td><td>0</td><td>&quot;SOTON/O.Q. 3101307&quot;</td><td>7.05</td><td>null</td><td>&quot;S&quot;</td></tr><tr><td>491</td><td>3</td><td>&quot;Hagland, Mr. Konrad Mathias Re…</td><td>&quot;male&quot;</td><td>null</td><td>1</td><td>0</td><td>&quot;65304&quot;</td><td>19.9667</td><td>null</td><td>&quot;S&quot;</td></tr><tr><td>529</td><td>3</td><td>&quot;Salonen, Mr. Johan Werner&quot;</td><td>&quot;male&quot;</td><td>39.0</td><td>0</td><td>0</td><td>&quot;3101296&quot;</td><td>7.925</td><td>null</td><td>&quot;S&quot;</td></tr><tr><td>49</td><td>3</td><td>&quot;Samaan, Mr. Youssef&quot;</td><td>&quot;male&quot;</td><td>null</td><td>2</td><td>0</td><td>&quot;2662&quot;</td><td>21.6792</td><td>null</td><td>&quot;C&quot;</td></tr><tr><td>81</td><td>3</td><td>&quot;Waelens, Mr. Achille&quot;</td><td>&quot;male&quot;</td><td>22.0</td><td>0</td><td>0</td><td>&quot;345767&quot;</td><td>9.0</td><td>null</td><td>&quot;S&quot;</td></tr></tbody></table></div>"
      ],
      "text/plain": [
       "shape: (668, 11)\n",
       "┌─────────────┬────────┬────────────────────┬────────┬───┬────────────┬─────────┬───────┬──────────┐\n",
       "│ passengerid ┆ pclass ┆ name               ┆ sex    ┆ … ┆ ticket     ┆ fare    ┆ cabin ┆ embarked │\n",
       "│ ---         ┆ ---    ┆ ---                ┆ ---    ┆   ┆ ---        ┆ ---     ┆ ---   ┆ ---      │\n",
       "│ i64         ┆ i64    ┆ str                ┆ str    ┆   ┆ str        ┆ f64     ┆ str   ┆ str      │\n",
       "╞═════════════╪════════╪════════════════════╪════════╪═══╪════════════╪═════════╪═══════╪══════════╡\n",
       "│ 672         ┆ 1      ┆ Davidson, Mr.      ┆ male   ┆ … ┆ F.C. 12750 ┆ 52.0    ┆ B71   ┆ S        │\n",
       "│             ┆        ┆ Thornton           ┆        ┆   ┆            ┆         ┆       ┆          │\n",
       "│ 418         ┆ 2      ┆ Silven, Miss.      ┆ female ┆ … ┆ 250652     ┆ 13.0    ┆ null  ┆ S        │\n",
       "│             ┆        ┆ Lyyli Karoliina    ┆        ┆   ┆            ┆         ┆       ┆          │\n",
       "│ 635         ┆ 3      ┆ Skoog, Miss. Mabel ┆ female ┆ … ┆ 347088     ┆ 27.9    ┆ null  ┆ S        │\n",
       "│ 324         ┆ 2      ┆ Caldwell, Mrs.     ┆ female ┆ … ┆ 248738     ┆ 29.0    ┆ null  ┆ S        │\n",
       "│             ┆        ┆ Albert Francis …   ┆        ┆   ┆            ┆         ┆       ┆          │\n",
       "│ 380         ┆ 3      ┆ Gustafsson, Mr.    ┆ male   ┆ … ┆ 347069     ┆ 7.775   ┆ null  ┆ S        │\n",
       "│             ┆        ┆ Karl Gideon        ┆        ┆   ┆            ┆         ┆       ┆          │\n",
       "│ …           ┆ …      ┆ …                  ┆ …      ┆ … ┆ …          ┆ …       ┆ …     ┆ …        │\n",
       "│ 132         ┆ 3      ┆ Coelho, Mr.        ┆ male   ┆ … ┆ SOTON/O.Q. ┆ 7.05    ┆ null  ┆ S        │\n",
       "│             ┆        ┆ Domingos Fernandeo ┆        ┆   ┆ 3101307    ┆         ┆       ┆          │\n",
       "│ 491         ┆ 3      ┆ Hagland, Mr.       ┆ male   ┆ … ┆ 65304      ┆ 19.9667 ┆ null  ┆ S        │\n",
       "│             ┆        ┆ Konrad Mathias Re… ┆        ┆   ┆            ┆         ┆       ┆          │\n",
       "│ 529         ┆ 3      ┆ Salonen, Mr. Johan ┆ male   ┆ … ┆ 3101296    ┆ 7.925   ┆ null  ┆ S        │\n",
       "│             ┆        ┆ Werner             ┆        ┆   ┆            ┆         ┆       ┆          │\n",
       "│ 49          ┆ 3      ┆ Samaan, Mr.        ┆ male   ┆ … ┆ 2662       ┆ 21.6792 ┆ null  ┆ C        │\n",
       "│             ┆        ┆ Youssef            ┆        ┆   ┆            ┆         ┆       ┆          │\n",
       "│ 81          ┆ 3      ┆ Waelens, Mr.       ┆ male   ┆ … ┆ 345767     ┆ 9.0     ┆ null  ┆ S        │\n",
       "│             ┆        ┆ Achille            ┆        ┆   ┆            ┆         ┆       ┆          │\n",
       "└─────────────┴────────┴────────────────────┴────────┴───┴────────────┴─────────┴───────┴──────────┘"
      ]
     },
     "execution_count": 118,
     "metadata": {},
     "output_type": "execute_result"
    }
   ],
   "source": [
    "x_df = df.drop('survived')\n",
    "y_df = df['survived']\n",
    "x_train_df, x_test_df, y_train_df, y_test_df = train_test_split(x_df, y_df, stratify=y_df, random_state=0)\n",
    "x_train_df"
   ]
  },
  {
   "cell_type": "code",
   "execution_count": 184,
   "metadata": {},
   "outputs": [
    {
     "data": {
      "application/vnd.jupyter.widget-view+json": {
       "model_id": "5d0f50aebbb2489cb81b296ed71c2b3a",
       "version_major": 2,
       "version_minor": 0
      },
      "text/plain": [
       "interactive(children=(Dropdown(description='clf_name', options=('logistic_regression', 'stochastic_gradient_de…"
      ]
     },
     "metadata": {},
     "output_type": "display_data"
    },
    {
     "data": {
      "text/plain": [
       "<function __main__.run_pipeline_with_classifier(clf_name)>"
      ]
     },
     "execution_count": 184,
     "metadata": {},
     "output_type": "execute_result"
    }
   ],
   "source": [
    "ct = make_column_transformer(\n",
    "    (make_pipeline(SimpleImputer(), StandardScaler()), [\"age\", \"fare\"]),\n",
    "    (OneHotEncoder(sparse_output=False), [\"embarked\", \"sex\", \"pclass\"]),\n",
    "    verbose_feature_names_out=False)\n",
    "\n",
    "\n",
    "# Note: click on pipeline elements to see more details\n",
    "classifiers = {\n",
    "    'logistic_regression': LogisticRegression(),\n",
    "    'stochastic_gradient_descent': SGDClassifier(loss='log_loss'),\n",
    "    'random_forest': RandomForestClassifier(),\n",
    "    'xgboost': XGBClassifier() # see https://xgboost.readthedocs.io/en/stable/python/python_api.html#module-xgboost.sklearn for more parameters\n",
    "}\n",
    "\n",
    "def run_pipeline_with_classifier(clf_name):\n",
    "    clf = make_pipeline(ct, classifiers[clf_name])\n",
    "    clf.fit(x_train_df, y_train_df)\n",
    "    print('solver:', clf_name)\n",
    "    print(clf.score(x_test_df, y_test_df))\n",
    "\n",
    "classifiers_selector = widgets.Dropdown(options=classifiers.keys(), value='logistic_regression')\n",
    "widgets.interact(run_pipeline_with_classifier, clf_name=classifiers_selector)\n",
    "\n",
    "# for clf_name in classifiers:\n",
    "#     run_pipeline_with_classifier(clf_name)\n",
    "#     print()"
   ]
  },
  {
   "cell_type": "code",
   "execution_count": 194,
   "metadata": {},
   "outputs": [
    {
     "name": "stdout",
     "output_type": "stream",
     "text": [
      "Performance of Random Forest with different hyperparameters:\n"
     ]
    },
    {
     "data": {
      "application/vnd.jupyter.widget-view+json": {
       "model_id": "c9c228b5838c443797a47b56ffb91605",
       "version_major": 2,
       "version_minor": 0
      },
      "text/plain": [
       "interactive(children=(IntSlider(value=100, description='n_estimators', max=300, step=5), IntSlider(value=1, de…"
      ]
     },
     "metadata": {},
     "output_type": "display_data"
    },
    {
     "data": {
      "text/plain": [
       "<function __main__.run_pipeline_with_random_forest(n_estimators, max_depth)>"
      ]
     },
     "execution_count": 194,
     "metadata": {},
     "output_type": "execute_result"
    }
   ],
   "source": [
    "n_estimators_widget = widgets.IntSlider(value=100, min=0, max=300, step=5)\n",
    "max_depth_widget = widgets.IntSlider(min=1, max=20, step=1)\n",
    "\n",
    "print('Performance of Random Forest with different hyperparameters:')\n",
    "def run_pipeline_with_random_forest(n_estimators, max_depth):\n",
    "    clf = make_pipeline(ct, RandomForestClassifier(n_estimators=n_estimators, max_depth=max_depth))\n",
    "    clf.fit(x_train_df, y_train_df)\n",
    "    print(clf.score(x_test_df, y_test_df))\n",
    "\n",
    "widgets.interact(run_pipeline_with_random_forest, n_estimators=n_estimators_widget, max_depth=max_depth_widget)\n"
   ]
  },
  {
   "cell_type": "code",
   "execution_count": 201,
   "metadata": {},
   "outputs": [
    {
     "name": "stdout",
     "output_type": "stream",
     "text": [
      "Performance of Logistic Regression with different hyperparameters:\n"
     ]
    },
    {
     "data": {
      "application/vnd.jupyter.widget-view+json": {
       "model_id": "2541408831fb47be81d67b39e58dcdf0",
       "version_major": 2,
       "version_minor": 0
      },
      "text/plain": [
       "interactive(children=(IntSlider(value=40, description='max_iter', min=20, step=5), Output()), _dom_classes=('w…"
      ]
     },
     "metadata": {},
     "output_type": "display_data"
    },
    {
     "data": {
      "text/plain": [
       "<function __main__.run_pipeline_with_logistic(max_iter)>"
      ]
     },
     "execution_count": 201,
     "metadata": {},
     "output_type": "execute_result"
    }
   ],
   "source": [
    "max_iter_widget = widgets.IntSlider(value=40, min=20, max=100, step=5)\n",
    "\n",
    "print('Performance of Logistic Regression with different hyperparameters:')\n",
    "def run_pipeline_with_logistic(max_iter):\n",
    "    clf = make_pipeline(ct, LogisticRegression(max_iter=max_iter))\n",
    "    clf.fit(x_train_df, y_train_df)\n",
    "    print(clf.score(x_test_df, y_test_df))\n",
    "\n",
    "widgets.interact(run_pipeline_with_logistic, max_iter=max_iter_widget)\n"
   ]
  },
  {
   "cell_type": "code",
   "execution_count": 153,
   "metadata": {},
   "outputs": [
    {
     "data": {
      "text/plain": [
       "0.7847533632286996"
      ]
     },
     "execution_count": 153,
     "metadata": {},
     "output_type": "execute_result"
    }
   ],
   "source": [
    "clf = make_pipeline(ct, LogisticRegression())\n",
    "clf.fit(x_train_df, y_train_df)\n",
    "clf.score(x_test_df, y_test_df)"
   ]
  },
  {
   "cell_type": "code",
   "execution_count": 154,
   "metadata": {},
   "outputs": [
    {
     "name": "stdout",
     "output_type": "stream",
     "text": [
      "score:  0.7847533632286996\n"
     ]
    },
    {
     "data": {
      "text/plain": [
       "<Axes: >"
      ]
     },
     "execution_count": 154,
     "metadata": {},
     "output_type": "execute_result"
    },
    {
     "data": {
      "image/png": "[encoded data removed]",
      "text/plain": [
       "<Figure size 640x480 with 1 Axes>"
      ]
     },
     "metadata": {},
     "output_type": "display_data"
    }
   ],
   "source": [
    "prob = clf.predict_proba(x_test_df)\n",
    "print('score: ', clf.score(x_test_df, y_test_df))\n",
    "prob_df = pl.DataFrame({str(clf.classes_[i]): list(prob[:, 0]) for i in range(len(clf.classes_))})['1']\n",
    "prob_df\n",
    "sns.lineplot(data=prob_df.sort())"
   ]
  },
  {
   "cell_type": "code",
   "execution_count": null,
   "metadata": {},
   "outputs": [],
   "source": []
  }
 ],
 "metadata": {
  "kernelspec": {
   "display_name": "venv",
   "language": "python",
   "name": "python3"
  },
  "language_info": {
   "codemirror_mode": {
    "name": "ipython",
    "version": 3
   },
   "file_extension": ".py",
   "mimetype": "text/x-python",
   "name": "python",
   "nbconvert_exporter": "python",
   "pygments_lexer": "ipython3",
   "version": "3.10.12"
  }
 },
 "nbformat": 4,
 "nbformat_minor": 2
}
