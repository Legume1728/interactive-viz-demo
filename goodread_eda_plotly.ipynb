{
 "cells": [
  {
   "cell_type": "code",
   "execution_count": 2,
   "id": "5d69895b-834e-4cd1-80b3-4226f4a06029",
   "metadata": {},
   "outputs": [],
   "source": [
    "import polars as pl\n",
    "import matplotlib.pyplot as plt\n",
    "import seaborn as sns\n",
    "import warnings\n",
    "\n",
    "from ipywidgets import interact, interactive_output, HBox\n",
    "import ipywidgets as widgets\n",
    "\n",
    "\n",
    "warnings.filterwarnings('ignore')"
   ]
  },
  {
   "cell_type": "code",
   "execution_count": 3,
   "id": "a6dcb6fb",
   "metadata": {},
   "outputs": [],
   "source": [
    "numeric_columns = ['Number of Ratings','Number of Reviews']\n",
    "df = (\n",
    "    pl.scan_csv('datasets/Good_Reads_Book_Awards_Crawl_2023_12_27_11_14.csv')\n",
    "    .drop(['source_URL', 'Book Description', 'About the Author'])\n",
    "    # Remove commas from numeric columns and convert them to integers\n",
    "    .with_columns([\n",
    "        pl.col(column).str.replace(',', '').cast(pl.Int32).alias(column)\n",
    "        for column in numeric_columns\n",
    "    ])\n",
    "    # extract kindle version from the kindle version and price column\n",
    "    .with_columns(\n",
    "        pl.col('Kindle Version and Price')\n",
    "        .str.extract('([a-zA-Z ]+)')\n",
    "        .str.strip_chars()\n",
    "        .cast(pl.Categorical)\n",
    "        .alias('Kindle Version'))\n",
    ").collect()"
   ]
  },
  {
   "cell_type": "code",
   "execution_count": 4,
   "id": "c05b9a52-cba7-497d-811e-b39ae4f88d79",
   "metadata": {},
   "outputs": [
    {
     "data": {
      "text/html": [
       "<div><style>\n",
       ".dataframe > thead > tr,\n",
       ".dataframe > tbody > tr {\n",
       "  text-align: right;\n",
       "  white-space: pre-wrap;\n",
       "}\n",
       "</style>\n",
       "<small>shape: (5, 13)</small><table border=\"1\" class=\"dataframe\"><thead><tr><th>Readers Choice Votes</th><th>Readers Choice Category</th><th>Title</th><th>Author</th><th>Total Avg Rating</th><th>Number of Ratings</th><th>Number of Reviews</th><th>Number of Pages</th><th>Edition</th><th>First Published date</th><th>Kindle Version and Price</th><th>Kindle Price</th><th>Kindle Version</th></tr><tr><td>i64</td><td>str</td><td>str</td><td>str</td><td>f64</td><td>i32</td><td>i32</td><td>i64</td><td>str</td><td>str</td><td>str</td><td>f64</td><td>cat</td></tr></thead><tbody><tr><td>2121</td><td>&quot;Memoir &amp; Autobiography&quot;</td><td>&quot;They Called Us Exceptional: An…</td><td>&quot;Prachi   Gupta&quot;</td><td>4.42</td><td>1814</td><td>296</td><td>288</td><td>&quot;Hardcover&quot;</td><td>&quot;22-Aug-23&quot;</td><td>&quot;Kindle $13.99&quot;</td><td>13.99</td><td>&quot;Kindle&quot;</td></tr><tr><td>30578</td><td>&quot;Fantasy&quot;</td><td>&quot;Sword Catcher&quot;</td><td>&quot;Cassandra Clare&quot;</td><td>3.86</td><td>9263</td><td>2386</td><td>624</td><td>&quot;Hardcover&quot;</td><td>&quot;10-Oct-23&quot;</td><td>&quot;Kindle $14.99&quot;</td><td>14.99</td><td>&quot;Kindle&quot;</td></tr><tr><td>3435</td><td>&quot;Young Adult Fiction&quot;</td><td>&quot;This Time It&#x27;s Real&quot;</td><td>&quot;Ann Liang&quot;</td><td>4.04</td><td>9981</td><td>2639</td><td>352</td><td>&quot;Hardcover&quot;</td><td>&quot;7-Feb-23&quot;</td><td>&quot;Kindle $1.99&quot;</td><td>1.99</td><td>&quot;Kindle&quot;</td></tr><tr><td>3697</td><td>&quot;Nonfiction&quot;</td><td>&quot;Ultra-Processed People: The Sc…</td><td>&quot;Chris van Tulleken&quot;</td><td>4.45</td><td>7474</td><td>945</td><td>384</td><td>&quot;Hardcover&quot;</td><td>&quot;27-Apr-23&quot;</td><td>&quot;Kindle $9.66&quot;</td><td>9.66</td><td>&quot;Kindle&quot;</td></tr><tr><td>57736</td><td>&quot;Young Adult Fiction&quot;</td><td>&quot;Five Survive&quot;</td><td>&quot;Holly  Jackson&quot;</td><td>4.07</td><td>98441</td><td>17770</td><td>388</td><td>&quot;Hardcover&quot;</td><td>&quot;29-Nov-22&quot;</td><td>&quot;Kindle $10.99&quot;</td><td>10.99</td><td>&quot;Kindle&quot;</td></tr></tbody></table></div>"
      ],
      "text/plain": [
       "shape: (5, 13)\n",
       "┌───────────┬───────────┬───────────┬───────────┬───┬───────────┬───────────┬───────────┬──────────┐\n",
       "│ Readers   ┆ Readers   ┆ Title     ┆ Author    ┆ … ┆ First     ┆ Kindle    ┆ Kindle    ┆ Kindle   │\n",
       "│ Choice    ┆ Choice    ┆ ---       ┆ ---       ┆   ┆ Published ┆ Version   ┆ Price     ┆ Version  │\n",
       "│ Votes     ┆ Category  ┆ str       ┆ str       ┆   ┆ date      ┆ and Price ┆ ---       ┆ ---      │\n",
       "│ ---       ┆ ---       ┆           ┆           ┆   ┆ ---       ┆ ---       ┆ f64       ┆ cat      │\n",
       "│ i64       ┆ str       ┆           ┆           ┆   ┆ str       ┆ str       ┆           ┆          │\n",
       "╞═══════════╪═══════════╪═══════════╪═══════════╪═══╪═══════════╪═══════════╪═══════════╪══════════╡\n",
       "│ 2121      ┆ Memoir &  ┆ They      ┆ Prachi    ┆ … ┆ 22-Aug-23 ┆ Kindle    ┆ 13.99     ┆ Kindle   │\n",
       "│           ┆ Autobiogr ┆ Called Us ┆ Gupta     ┆   ┆           ┆ $13.99    ┆           ┆          │\n",
       "│           ┆ aphy      ┆ Exception ┆           ┆   ┆           ┆           ┆           ┆          │\n",
       "│           ┆           ┆ al: An…   ┆           ┆   ┆           ┆           ┆           ┆          │\n",
       "│ 30578     ┆ Fantasy   ┆ Sword     ┆ Cassandra ┆ … ┆ 10-Oct-23 ┆ Kindle    ┆ 14.99     ┆ Kindle   │\n",
       "│           ┆           ┆ Catcher   ┆ Clare     ┆   ┆           ┆ $14.99    ┆           ┆          │\n",
       "│ 3435      ┆ Young     ┆ This Time ┆ Ann Liang ┆ … ┆ 7-Feb-23  ┆ Kindle    ┆ 1.99      ┆ Kindle   │\n",
       "│           ┆ Adult     ┆ It's Real ┆           ┆   ┆           ┆ $1.99     ┆           ┆          │\n",
       "│           ┆ Fiction   ┆           ┆           ┆   ┆           ┆           ┆           ┆          │\n",
       "│ 3697      ┆ Nonfictio ┆ Ultra-Pro ┆ Chris van ┆ … ┆ 27-Apr-23 ┆ Kindle    ┆ 9.66      ┆ Kindle   │\n",
       "│           ┆ n         ┆ cessed    ┆ Tulleken  ┆   ┆           ┆ $9.66     ┆           ┆          │\n",
       "│           ┆           ┆ People:   ┆           ┆   ┆           ┆           ┆           ┆          │\n",
       "│           ┆           ┆ The Sc…   ┆           ┆   ┆           ┆           ┆           ┆          │\n",
       "│ 57736     ┆ Young     ┆ Five      ┆ Holly     ┆ … ┆ 29-Nov-22 ┆ Kindle    ┆ 10.99     ┆ Kindle   │\n",
       "│           ┆ Adult     ┆ Survive   ┆ Jackson   ┆   ┆           ┆ $10.99    ┆           ┆          │\n",
       "│           ┆ Fiction   ┆           ┆           ┆   ┆           ┆           ┆           ┆          │\n",
       "└───────────┴───────────┴───────────┴───────────┴───┴───────────┴───────────┴───────────┴──────────┘"
      ]
     },
     "execution_count": 4,
     "metadata": {},
     "output_type": "execute_result"
    }
   ],
   "source": [
    "df.sample(5)"
   ]
  },
  {
   "cell_type": "code",
   "execution_count": 5,
   "id": "a95dd793",
   "metadata": {},
   "outputs": [
    {
     "data": {
      "text/html": [
       "<div><style>\n",
       ".dataframe > thead > tr,\n",
       ".dataframe > tbody > tr {\n",
       "  text-align: right;\n",
       "  white-space: pre-wrap;\n",
       "}\n",
       "</style>\n",
       "<small>shape: (9, 14)</small><table border=\"1\" class=\"dataframe\"><thead><tr><th>statistic</th><th>Readers Choice Votes</th><th>Readers Choice Category</th><th>Title</th><th>Author</th><th>Total Avg Rating</th><th>Number of Ratings</th><th>Number of Reviews</th><th>Number of Pages</th><th>Edition</th><th>First Published date</th><th>Kindle Version and Price</th><th>Kindle Price</th><th>Kindle Version</th></tr><tr><td>str</td><td>f64</td><td>str</td><td>str</td><td>str</td><td>f64</td><td>f64</td><td>f64</td><td>f64</td><td>str</td><td>str</td><td>str</td><td>f64</td><td>str</td></tr></thead><tbody><tr><td>&quot;count&quot;</td><td>299.0</td><td>&quot;299&quot;</td><td>&quot;299&quot;</td><td>&quot;299&quot;</td><td>299.0</td><td>299.0</td><td>299.0</td><td>299.0</td><td>&quot;299&quot;</td><td>&quot;299&quot;</td><td>&quot;299&quot;</td><td>299.0</td><td>&quot;299&quot;</td></tr><tr><td>&quot;null_count&quot;</td><td>0.0</td><td>&quot;0&quot;</td><td>&quot;0&quot;</td><td>&quot;0&quot;</td><td>0.0</td><td>0.0</td><td>0.0</td><td>0.0</td><td>&quot;0&quot;</td><td>&quot;0&quot;</td><td>&quot;0&quot;</td><td>0.0</td><td>&quot;0&quot;</td></tr><tr><td>&quot;mean&quot;</td><td>19662.919732</td><td>null</td><td>null</td><td>null</td><td>4.063512</td><td>38748.351171</td><td>5241.705686</td><td>392.394649</td><td>null</td><td>null</td><td>null</td><td>11.327926</td><td>null</td></tr><tr><td>&quot;std&quot;</td><td>32406.337679</td><td>null</td><td>null</td><td>null</td><td>0.252188</td><td>79586.655592</td><td>10800.06966</td><td>123.698044</td><td>null</td><td>null</td><td>null</td><td>5.351909</td><td>null</td></tr><tr><td>&quot;min&quot;</td><td>935.0</td><td>&quot;Debut Novel&quot;</td><td>&quot;8 Rules of Love: How to Find I…</td><td>&quot;Abby Jimenez&quot;</td><td>3.52</td><td>228.0</td><td>71.0</td><td>192.0</td><td>&quot;Hardcover&quot;</td><td>&quot;1-Aug-23&quot;</td><td>&quot;Kindle $1.99&quot;</td><td>0.0</td><td>null</td></tr><tr><td>&quot;25%&quot;</td><td>3593.0</td><td>null</td><td>null</td><td>null</td><td>3.86</td><td>5553.0</td><td>959.0</td><td>320.0</td><td>null</td><td>null</td><td>null</td><td>9.99</td><td>null</td></tr><tr><td>&quot;50%&quot;</td><td>10099.0</td><td>null</td><td>null</td><td>null</td><td>4.06</td><td>14519.0</td><td>2469.0</td><td>368.0</td><td>null</td><td>null</td><td>null</td><td>13.99</td><td>null</td></tr><tr><td>&quot;75%&quot;</td><td>24792.0</td><td>null</td><td>null</td><td>null</td><td>4.25</td><td>37341.0</td><td>5112.0</td><td>432.0</td><td>null</td><td>null</td><td>null</td><td>14.99</td><td>null</td></tr><tr><td>&quot;max&quot;</td><td>397565.0</td><td>&quot;Young Adult Fiction&quot;</td><td>&quot;Yours Truly&quot;</td><td>&quot;Ziwe&quot;</td><td>4.75</td><td>930928.0</td><td>141668.0</td><td>1242.0</td><td>&quot;ebook&quot;</td><td>&quot;9-May-23&quot;</td><td>&quot;Kindle Unlimited $0.00&quot;</td><td>17.99</td><td>null</td></tr></tbody></table></div>"
      ],
      "text/plain": [
       "shape: (9, 14)\n",
       "┌───────────┬───────────┬───────────┬───────────┬───┬───────────┬───────────┬───────────┬──────────┐\n",
       "│ statistic ┆ Readers   ┆ Readers   ┆ Title     ┆ … ┆ First     ┆ Kindle    ┆ Kindle    ┆ Kindle   │\n",
       "│ ---       ┆ Choice    ┆ Choice    ┆ ---       ┆   ┆ Published ┆ Version   ┆ Price     ┆ Version  │\n",
       "│ str       ┆ Votes     ┆ Category  ┆ str       ┆   ┆ date      ┆ and Price ┆ ---       ┆ ---      │\n",
       "│           ┆ ---       ┆ ---       ┆           ┆   ┆ ---       ┆ ---       ┆ f64       ┆ str      │\n",
       "│           ┆ f64       ┆ str       ┆           ┆   ┆ str       ┆ str       ┆           ┆          │\n",
       "╞═══════════╪═══════════╪═══════════╪═══════════╪═══╪═══════════╪═══════════╪═══════════╪══════════╡\n",
       "│ count     ┆ 299.0     ┆ 299       ┆ 299       ┆ … ┆ 299       ┆ 299       ┆ 299.0     ┆ 299      │\n",
       "│ null_coun ┆ 0.0       ┆ 0         ┆ 0         ┆ … ┆ 0         ┆ 0         ┆ 0.0       ┆ 0        │\n",
       "│ t         ┆           ┆           ┆           ┆   ┆           ┆           ┆           ┆          │\n",
       "│ mean      ┆ 19662.919 ┆ null      ┆ null      ┆ … ┆ null      ┆ null      ┆ 11.327926 ┆ null     │\n",
       "│           ┆ 732       ┆           ┆           ┆   ┆           ┆           ┆           ┆          │\n",
       "│ std       ┆ 32406.337 ┆ null      ┆ null      ┆ … ┆ null      ┆ null      ┆ 5.351909  ┆ null     │\n",
       "│           ┆ 679       ┆           ┆           ┆   ┆           ┆           ┆           ┆          │\n",
       "│ min       ┆ 935.0     ┆ Debut     ┆ 8 Rules   ┆ … ┆ 1-Aug-23  ┆ Kindle    ┆ 0.0       ┆ null     │\n",
       "│           ┆           ┆ Novel     ┆ of Love:  ┆   ┆           ┆ $1.99     ┆           ┆          │\n",
       "│           ┆           ┆           ┆ How to    ┆   ┆           ┆           ┆           ┆          │\n",
       "│           ┆           ┆           ┆ Find I…   ┆   ┆           ┆           ┆           ┆          │\n",
       "│ 25%       ┆ 3593.0    ┆ null      ┆ null      ┆ … ┆ null      ┆ null      ┆ 9.99      ┆ null     │\n",
       "│ 50%       ┆ 10099.0   ┆ null      ┆ null      ┆ … ┆ null      ┆ null      ┆ 13.99     ┆ null     │\n",
       "│ 75%       ┆ 24792.0   ┆ null      ┆ null      ┆ … ┆ null      ┆ null      ┆ 14.99     ┆ null     │\n",
       "│ max       ┆ 397565.0  ┆ Young     ┆ Yours     ┆ … ┆ 9-May-23  ┆ Kindle    ┆ 17.99     ┆ null     │\n",
       "│           ┆           ┆ Adult     ┆ Truly     ┆   ┆           ┆ Unlimited ┆           ┆          │\n",
       "│           ┆           ┆ Fiction   ┆           ┆   ┆           ┆ $0.00     ┆           ┆          │\n",
       "└───────────┴───────────┴───────────┴───────────┴───┴───────────┴───────────┴───────────┴──────────┘"
      ]
     },
     "execution_count": 5,
     "metadata": {},
     "output_type": "execute_result"
    }
   ],
   "source": [
    "df.describe()"
   ]
  },
  {
   "cell_type": "code",
   "execution_count": 6,
   "id": "db23e32c-6460-4a2f-9631-446bc68f047c",
   "metadata": {},
   "outputs": [
    {
     "name": "stdout",
     "output_type": "stream",
     "text": [
      "shape: (15, 2)\n",
      "┌─────────────────────────┬───────┐\n",
      "│ Readers Choice Category ┆ count │\n",
      "│ ---                     ┆ ---   │\n",
      "│ str                     ┆ u32   │\n",
      "╞═════════════════════════╪═══════╡\n",
      "│ Fiction                 ┆ 20    │\n",
      "│ Historical Fiction      ┆ 20    │\n",
      "│ Mystery & Thriller      ┆ 20    │\n",
      "│ Romance                 ┆ 20    │\n",
      "│ Romantasy               ┆ 20    │\n",
      "│ …                       ┆ …     │\n",
      "│ Nonfiction              ┆ 20    │\n",
      "│ Memoir & Autobiography  ┆ 20    │\n",
      "│ History & Biography     ┆ 20    │\n",
      "│ Humor                   ┆ 20    │\n",
      "│ Debut Novel             ┆ 19    │\n",
      "└─────────────────────────┴───────┘\n"
     ]
    }
   ],
   "source": [
    "cat_counts = df['Readers Choice Category'].value_counts(sort=True)\n",
    "print(cat_counts)"
   ]
  },
  {
   "cell_type": "code",
   "execution_count": 7,
   "id": "c6da5188-2e52-4888-8979-8b9f46b17020",
   "metadata": {},
   "outputs": [
    {
     "data": {
      "image/png": "[encoded data removed]",
      "text/plain": [
       "<Figure size 1200x600 with 1 Axes>"
      ]
     },
     "metadata": {},
     "output_type": "display_data"
    }
   ],
   "source": [
    "plt.figure(figsize=(12, 6))\n",
    "sns.barplot(x='Readers Choice Category', y='count', data=cat_counts, palette='Blues_d')\n",
    "plt.title('Distribution of Books Across Categories')\n",
    "plt.xlabel('Category')\n",
    "plt.ylabel('Number of Books')\n",
    "plt.xticks(rotation=30, ha='right')\n",
    "plt.show()"
   ]
  },
  {
   "cell_type": "code",
   "execution_count": 8,
   "id": "7d39a9fa-63b4-4244-a9c9-c19daf6abcf0",
   "metadata": {},
   "outputs": [
    {
     "data": {
      "text/html": [
       "<div><style>\n",
       ".dataframe > thead > tr,\n",
       ".dataframe > tbody > tr {\n",
       "  text-align: right;\n",
       "  white-space: pre-wrap;\n",
       "}\n",
       "</style>\n",
       "<small>shape: (15, 7)</small><table border=\"1\" class=\"dataframe\"><thead><tr><th>Readers Choice Category</th><th>Readers Choice Votes</th><th>Total Avg Rating</th><th>Number of Ratings</th><th>Number of Reviews</th><th>Number of Pages</th><th>Kindle Price</th></tr><tr><td>str</td><td>i64</td><td>f64</td><td>i32</td><td>i32</td><td>f64</td><td>f64</td></tr></thead><tbody><tr><td>&quot;Romance&quot;</td><td>645601</td><td>4.06</td><td>2737676</td><td>336747</td><td>398.0</td><td>6.99</td></tr><tr><td>&quot;Fiction&quot;</td><td>587718</td><td>3.95</td><td>1288841</td><td>157445</td><td>328.0</td><td>14.99</td></tr><tr><td>&quot;Romantasy&quot;</td><td>572812</td><td>4.07</td><td>1387830</td><td>203928</td><td>506.0</td><td>5.49</td></tr><tr><td>&quot;Mystery &amp; Thriller&quot;</td><td>519745</td><td>4.05</td><td>1673792</td><td>181312</td><td>365.5</td><td>14.99</td></tr><tr><td>&quot;Fantasy&quot;</td><td>456020</td><td>4.1</td><td>523942</td><td>93625</td><td>407.5</td><td>14.73</td></tr><tr><td>&hellip;</td><td>&hellip;</td><td>&hellip;</td><td>&hellip;</td><td>&hellip;</td><td>&hellip;</td><td>&hellip;</td></tr><tr><td>&quot;Horror&quot;</td><td>295053</td><td>3.91</td><td>316925</td><td>59709</td><td>360.0</td><td>14.99</td></tr><tr><td>&quot;Debut Novel&quot;</td><td>285135</td><td>4.08</td><td>566320</td><td>77107</td><td>344.0</td><td>12.99</td></tr><tr><td>&quot;Nonfiction&quot;</td><td>224029</td><td>4.18</td><td>185864</td><td>21393</td><td>320.0</td><td>14.99</td></tr><tr><td>&quot;Humor&quot;</td><td>217924</td><td>4.06</td><td>72821</td><td>11377</td><td>288.0</td><td>13.99</td></tr><tr><td>&quot;History &amp; Biography&quot;</td><td>217017</td><td>4.19</td><td>150726</td><td>18142</td><td>390.5</td><td>14.99</td></tr></tbody></table></div>"
      ],
      "text/plain": [
       "shape: (15, 7)\n",
       "┌─────────────────────────┬─────────┬───────────┬───────────┬───────────┬─────────────────┬────────┐\n",
       "│ Readers Choice Category ┆ Readers ┆ Total Avg ┆ Number of ┆ Number of ┆ Number of Pages ┆ Kindle │\n",
       "│ ---                     ┆ Choice  ┆ Rating    ┆ Ratings   ┆ Reviews   ┆ ---             ┆ Price  │\n",
       "│ str                     ┆ Votes   ┆ ---       ┆ ---       ┆ ---       ┆ f64             ┆ ---    │\n",
       "│                         ┆ ---     ┆ f64       ┆ i32       ┆ i32       ┆                 ┆ f64    │\n",
       "│                         ┆ i64     ┆           ┆           ┆           ┆                 ┆        │\n",
       "╞═════════════════════════╪═════════╪═══════════╪═══════════╪═══════════╪═════════════════╪════════╡\n",
       "│ Romance                 ┆ 645601  ┆ 4.06      ┆ 2737676   ┆ 336747    ┆ 398.0           ┆ 6.99   │\n",
       "│ Fiction                 ┆ 587718  ┆ 3.95      ┆ 1288841   ┆ 157445    ┆ 328.0           ┆ 14.99  │\n",
       "│ Romantasy               ┆ 572812  ┆ 4.07      ┆ 1387830   ┆ 203928    ┆ 506.0           ┆ 5.49   │\n",
       "│ Mystery & Thriller      ┆ 519745  ┆ 4.05      ┆ 1673792   ┆ 181312    ┆ 365.5           ┆ 14.99  │\n",
       "│ Fantasy                 ┆ 456020  ┆ 4.1       ┆ 523942    ┆ 93625     ┆ 407.5           ┆ 14.73  │\n",
       "│ …                       ┆ …       ┆ …         ┆ …         ┆ …         ┆ …               ┆ …      │\n",
       "│ Horror                  ┆ 295053  ┆ 3.91      ┆ 316925    ┆ 59709     ┆ 360.0           ┆ 14.99  │\n",
       "│ Debut Novel             ┆ 285135  ┆ 4.08      ┆ 566320    ┆ 77107     ┆ 344.0           ┆ 12.99  │\n",
       "│ Nonfiction              ┆ 224029  ┆ 4.18      ┆ 185864    ┆ 21393     ┆ 320.0           ┆ 14.99  │\n",
       "│ Humor                   ┆ 217924  ┆ 4.06      ┆ 72821     ┆ 11377     ┆ 288.0           ┆ 13.99  │\n",
       "│ History & Biography     ┆ 217017  ┆ 4.19      ┆ 150726    ┆ 18142     ┆ 390.5           ┆ 14.99  │\n",
       "└─────────────────────────┴─────────┴───────────┴───────────┴───────────┴─────────────────┴────────┘"
      ]
     },
     "execution_count": 8,
     "metadata": {},
     "output_type": "execute_result"
    }
   ],
   "source": [
    "# Group by book category\n",
    "result_df = df.group_by('Readers Choice Category')\\\n",
    "    .agg(\n",
    "        pl.sum('Readers Choice Votes'),\n",
    "        pl.mean('Total Avg Rating').round(2),\n",
    "        pl.sum('Number of Ratings'),\n",
    "        pl.sum('Number of Reviews'),\n",
    "        pl.median('Number of Pages'),\n",
    "        pl.median('Kindle Price').round(2)\n",
    "    ).sort('Readers Choice Votes', descending=True)\n",
    "\n",
    "result_df"
   ]
  },
  {
   "cell_type": "code",
   "execution_count": 9,
   "id": "36f6781d-8a42-4a2c-a00c-a918993067b8",
   "metadata": {},
   "outputs": [
    {
     "data": {
      "application/vnd.jupyter.widget-view+json": {
       "model_id": "73979fe2ed3347fc99134f7b7b42921a",
       "version_major": 2,
       "version_minor": 0
      },
      "text/plain": [
       "HBox(children=(Dropdown(description='Sort by:', options=('Number of Ratings', 'Total Avg Rating', 'Number of P…"
      ]
     },
     "metadata": {},
     "output_type": "display_data"
    },
    {
     "data": {
      "application/vnd.jupyter.widget-view+json": {
       "model_id": "68d18ce1c13b414595b9c83055ca7bf7",
       "version_major": 2,
       "version_minor": 0
      },
      "text/plain": [
       "Output()"
      ]
     },
     "metadata": {},
     "output_type": "display_data"
    }
   ],
   "source": [
    "layout = {\n",
    "    'Number of Ratings': (0, 0),\n",
    "    'Total Avg Rating': (0, 1),\n",
    "    'Number of Pages': (1, 0),\n",
    "    'Kindle Price': (1, 1),\n",
    "}\n",
    "\n",
    "sort_column = widgets.Dropdown(\n",
    "    options=layout.keys(),\n",
    "    value='Number of Ratings',\n",
    "    description='Sort by:',\n",
    "    disabled=False,\n",
    ")\n",
    "\n",
    "sort_direction = widgets.Dropdown(\n",
    "    options=['ascending', 'descending'],\n",
    "    value='ascending',\n",
    "    description='Direction:',\n",
    "    disabled=False,\n",
    ")\n",
    "\n",
    "dropdowns_row = HBox([sort_column, sort_direction])\n",
    "\n",
    "\n",
    "def plot_columns_for_each_category(sort_column=sort_column, sort_direction=sort_direction):\n",
    "\n",
    "\n",
    "    result_df_sorted = result_df.sort(by=sort_column, descending=sort_direction == 'descending') \n",
    "    # polars uses descending instead of ascending, which is more in line with Python conventions\n",
    "    # polars also uses sort instead of sort_values, also more in line with Python conventions\n",
    "\n",
    "    # figsize is (width, height) in inches\n",
    "    fig, axes = plt.subplots(2, 2, figsize=(16, 10), sharey=False)\n",
    "\n",
    "\n",
    "    for column, (i, j) in layout.items():\n",
    "        ax = axes[i, j]\n",
    "        sns.barplot(x='Readers Choice Category', y=column, data=result_df_sorted, palette='Blues_d', ax=ax)\n",
    "        ax.set_title(f'{column} for Each Category')\n",
    "        ax.set_xticklabels(labels=result_df_sorted['Readers Choice Category'], rotation=30, ha='right')\n",
    "\n",
    "    plt.tight_layout()\n",
    "    plt.show()\n",
    "\n",
    "out = interactive_output(plot_columns_for_each_category, {'sort_column': sort_column, 'sort_direction': sort_direction})\n",
    "display(dropdowns_row, out)\n"
   ]
  },
  {
   "cell_type": "code",
   "execution_count": 10,
   "id": "47862d55-e304-4010-a83f-f222a993095a",
   "metadata": {},
   "outputs": [
    {
     "data": {
      "application/vnd.jupyter.widget-view+json": {
       "model_id": "428e1df417e24d149f372be990be8eb8",
       "version_major": 2,
       "version_minor": 0
      },
      "text/plain": [
       "HBox(children=(Dropdown(description='Sort by:', index=2, options=('Readers Choice Votes', 'Total Avg Rating', …"
      ]
     },
     "metadata": {},
     "output_type": "display_data"
    },
    {
     "data": {
      "application/vnd.jupyter.widget-view+json": {
       "model_id": "568e48b90a504a66934c7bede6c9814a",
       "version_major": 2,
       "version_minor": 0
      },
      "text/plain": [
       "Output()"
      ]
     },
     "metadata": {},
     "output_type": "display_data"
    }
   ],
   "source": [
    "layout = {\n",
    "    'Readers Choice Votes': (0, 0),\n",
    "    'Total Avg Rating': (0, 1),\n",
    "    'Number of Ratings': (1, 0),\n",
    "    'Number of Reviews': (1, 1),\n",
    "    'Number of Pages': (2, 0),\n",
    "    'Kindle Price': (2, 1),\n",
    "}\n",
    "\n",
    "\n",
    "sort_column = widgets.Dropdown(\n",
    "    options=layout.keys(),\n",
    "    value='Number of Ratings',\n",
    "    description='Sort by:',\n",
    "    disabled=False,\n",
    ")\n",
    "\n",
    "sort_direction = widgets.Dropdown(\n",
    "    options=['ascending', 'descending'],\n",
    "    value='ascending',\n",
    "    description='Direction:',\n",
    "    disabled=False,\n",
    ")\n",
    "\n",
    "dropdowns_row = HBox([sort_column, sort_direction])\n",
    "\n",
    "\n",
    "def plot_boxplot_for_each_category(sort_column=sort_column, sort_direction=sort_direction):\n",
    "    fig, axes = plt.subplots(3, 2, figsize=(16, 18))\n",
    "\n",
    "    for column, (i, j) in layout.items():\n",
    "        ax = axes[i, j]\n",
    "        cols = result_df.sort(by=sort_column, descending=sort_direction == 'descending')['Readers Choice Category'] # order by corresponding aggregated column\n",
    "        sns.boxplot(data=df, x='Readers Choice Category', y=column, palette='Set3', ax=ax, order=cols)\n",
    "        ax.set_title(f'{column} vs Category')\n",
    "        ax.set_xticklabels(ax.get_xticklabels(), rotation=30, ha='right')\n",
    "        \n",
    "    fig.tight_layout()\n",
    "    plt.show()\n",
    "\n",
    "out = interactive_output(plot_boxplot_for_each_category, {'sort_column': sort_column, 'sort_direction': sort_direction})\n",
    "display(dropdowns_row, out)"
   ]
  },
  {
   "cell_type": "code",
   "execution_count": 11,
   "id": "65e1a6f4",
   "metadata": {},
   "outputs": [
    {
     "data": {
      "text/html": [
       "<div><style>\n",
       ".dataframe > thead > tr,\n",
       ".dataframe > tbody > tr {\n",
       "  text-align: right;\n",
       "  white-space: pre-wrap;\n",
       "}\n",
       "</style>\n",
       "<small>shape: (299, 13)</small><table border=\"1\" class=\"dataframe\"><thead><tr><th>Readers Choice Votes</th><th>Readers Choice Category</th><th>Title</th><th>Author</th><th>Total Avg Rating</th><th>Number of Ratings</th><th>Number of Reviews</th><th>Number of Pages</th><th>Edition</th><th>First Published date</th><th>Kindle Version and Price</th><th>Kindle Price</th><th>Kindle Version</th></tr><tr><td>i64</td><td>str</td><td>str</td><td>str</td><td>f64</td><td>i32</td><td>i32</td><td>i64</td><td>str</td><td>str</td><td>str</td><td>f64</td><td>cat</td></tr></thead><tbody><tr><td>3247</td><td>&quot;History &amp; Biography&quot;</td><td>&quot;Star Crossed: A True Romeo and…</td><td>&quot;Heather Dune Macadam|Simon Wor…</td><td>4.07</td><td>228</td><td>97</td><td>320</td><td>&quot;Hardcover&quot;</td><td>&quot;22-Aug-23&quot;</td><td>&quot;Kindle Unlimited $0.00&quot;</td><td>0.0</td><td>&quot;Kindle Unlimited&quot;</td></tr><tr><td>2851</td><td>&quot;Nonfiction&quot;</td><td>&quot;Punished for Dreaming: How Sch…</td><td>&quot;Bettina L. Love&quot;</td><td>4.44</td><td>376</td><td>99</td><td>352</td><td>&quot;Hardcover&quot;</td><td>&quot;12-Sep-23&quot;</td><td>&quot;Kindle $14.99&quot;</td><td>14.99</td><td>&quot;Kindle&quot;</td></tr><tr><td>1388</td><td>&quot;Science Fiction&quot;</td><td>&quot;The Jinn-Bot of Shantiport&quot;</td><td>&quot;Samit Basu&quot;</td><td>3.7</td><td>450</td><td>181</td><td>404</td><td>&quot;Hardcover&quot;</td><td>&quot;3-Oct-23&quot;</td><td>&quot;Kindle $14.99&quot;</td><td>14.99</td><td>&quot;Kindle&quot;</td></tr><tr><td>2257</td><td>&quot;Humor&quot;</td><td>&quot;Unreliable Narrator: Me, Mysel…</td><td>&quot;Aparna Nancherla&quot;</td><td>3.71</td><td>517</td><td>71</td><td>304</td><td>&quot;Hardcover&quot;</td><td>&quot;19-Sep-23&quot;</td><td>&quot;Kindle $14.99&quot;</td><td>14.99</td><td>&quot;Kindle&quot;</td></tr><tr><td>3340</td><td>&quot;Memoir &amp; Autobiography&quot;</td><td>&quot;The Witching Year: A Memoir of…</td><td>&quot;Diana Helmuth&quot;</td><td>3.81</td><td>551</td><td>140</td><td>352</td><td>&quot;Hardcover&quot;</td><td>&quot;3-Oct-23&quot;</td><td>&quot;Kindle $14.99&quot;</td><td>14.99</td><td>&quot;Kindle&quot;</td></tr><tr><td>&hellip;</td><td>&hellip;</td><td>&hellip;</td><td>&hellip;</td><td>&hellip;</td><td>&hellip;</td><td>&hellip;</td><td>&hellip;</td><td>&hellip;</td><td>&hellip;</td><td>&hellip;</td><td>&hellip;</td><td>&hellip;</td></tr><tr><td>46423</td><td>&quot;Romance&quot;</td><td>&quot;Things We Hide from the Light&quot;</td><td>&quot;Lucy Score&quot;</td><td>4.09</td><td>260774</td><td>19060</td><td>594</td><td>&quot;Kindle Edition&quot;</td><td>&quot;21-Feb-23&quot;</td><td>&quot;Kindle Unlimited $0.00&quot;</td><td>0.0</td><td>&quot;Kindle Unlimited&quot;</td></tr><tr><td>71461</td><td>&quot;Memoir &amp; Autobiography&quot;</td><td>&quot;Spare&quot;</td><td>&quot;Prince Harry|J.R. Moehringer&quot;</td><td>3.88</td><td>310213</td><td>35794</td><td>410</td><td>&quot;Hardcover&quot;</td><td>&quot;10-Jan-23&quot;</td><td>&quot;Kindle $17.99&quot;</td><td>17.99</td><td>&quot;Kindle&quot;</td></tr><tr><td>86468</td><td>&quot;Mystery &amp; Thriller&quot;</td><td>&quot;The Housemaid&#x27;s Secret&quot;</td><td>&quot;Freida McFadden&quot;</td><td>4.28</td><td>321845</td><td>21398</td><td>318</td><td>&quot;Kindle Edition&quot;</td><td>&quot;20-Feb-23&quot;</td><td>&quot;Kindle Unlimited $0.00&quot;</td><td>0.0</td><td>&quot;Kindle Unlimited&quot;</td></tr><tr><td>157687</td><td>&quot;Romance&quot;</td><td>&quot;Happy Place&quot;</td><td>&quot;Emily Henry&quot;</td><td>4.05</td><td>599665</td><td>75814</td><td>400</td><td>&quot;Hardcover&quot;</td><td>&quot;25-Apr-23&quot;</td><td>&quot;Kindle $11.99&quot;</td><td>11.99</td><td>&quot;Kindle&quot;</td></tr><tr><td>397565</td><td>&quot;Romantasy&quot;</td><td>&quot;Fourth Wing&quot;</td><td>&quot;Rebecca Yarros&quot;</td><td>4.62</td><td>930928</td><td>141668</td><td>500</td><td>&quot;Hardcover&quot;</td><td>&quot;2-May-23&quot;</td><td>&quot;Kindle $14.99&quot;</td><td>14.99</td><td>&quot;Kindle&quot;</td></tr></tbody></table></div>"
      ],
      "text/plain": [
       "shape: (299, 13)\n",
       "┌───────────┬───────────┬───────────┬───────────┬───┬───────────┬───────────┬───────────┬──────────┐\n",
       "│ Readers   ┆ Readers   ┆ Title     ┆ Author    ┆ … ┆ First     ┆ Kindle    ┆ Kindle    ┆ Kindle   │\n",
       "│ Choice    ┆ Choice    ┆ ---       ┆ ---       ┆   ┆ Published ┆ Version   ┆ Price     ┆ Version  │\n",
       "│ Votes     ┆ Category  ┆ str       ┆ str       ┆   ┆ date      ┆ and Price ┆ ---       ┆ ---      │\n",
       "│ ---       ┆ ---       ┆           ┆           ┆   ┆ ---       ┆ ---       ┆ f64       ┆ cat      │\n",
       "│ i64       ┆ str       ┆           ┆           ┆   ┆ str       ┆ str       ┆           ┆          │\n",
       "╞═══════════╪═══════════╪═══════════╪═══════════╪═══╪═══════════╪═══════════╪═══════════╪══════════╡\n",
       "│ 3247      ┆ History & ┆ Star      ┆ Heather   ┆ … ┆ 22-Aug-23 ┆ Kindle    ┆ 0.0       ┆ Kindle   │\n",
       "│           ┆ Biography ┆ Crossed:  ┆ Dune Maca ┆   ┆           ┆ Unlimited ┆           ┆ Unlimite │\n",
       "│           ┆           ┆ A True    ┆ dam|Simon ┆   ┆           ┆ $0.00     ┆           ┆ d        │\n",
       "│           ┆           ┆ Romeo     ┆ Wor…      ┆   ┆           ┆           ┆           ┆          │\n",
       "│           ┆           ┆ and…      ┆           ┆   ┆           ┆           ┆           ┆          │\n",
       "│ 2851      ┆ Nonfictio ┆ Punished  ┆ Bettina   ┆ … ┆ 12-Sep-23 ┆ Kindle    ┆ 14.99     ┆ Kindle   │\n",
       "│           ┆ n         ┆ for       ┆ L. Love   ┆   ┆           ┆ $14.99    ┆           ┆          │\n",
       "│           ┆           ┆ Dreaming: ┆           ┆   ┆           ┆           ┆           ┆          │\n",
       "│           ┆           ┆ How Sch…  ┆           ┆   ┆           ┆           ┆           ┆          │\n",
       "│ 1388      ┆ Science   ┆ The       ┆ Samit     ┆ … ┆ 3-Oct-23  ┆ Kindle    ┆ 14.99     ┆ Kindle   │\n",
       "│           ┆ Fiction   ┆ Jinn-Bot  ┆ Basu      ┆   ┆           ┆ $14.99    ┆           ┆          │\n",
       "│           ┆           ┆ of Shanti ┆           ┆   ┆           ┆           ┆           ┆          │\n",
       "│           ┆           ┆ port      ┆           ┆   ┆           ┆           ┆           ┆          │\n",
       "│ 2257      ┆ Humor     ┆ Unreliabl ┆ Aparna    ┆ … ┆ 19-Sep-23 ┆ Kindle    ┆ 14.99     ┆ Kindle   │\n",
       "│           ┆           ┆ e         ┆ Nancherla ┆   ┆           ┆ $14.99    ┆           ┆          │\n",
       "│           ┆           ┆ Narrator: ┆           ┆   ┆           ┆           ┆           ┆          │\n",
       "│           ┆           ┆ Me,       ┆           ┆   ┆           ┆           ┆           ┆          │\n",
       "│           ┆           ┆ Mysel…    ┆           ┆   ┆           ┆           ┆           ┆          │\n",
       "│ 3340      ┆ Memoir &  ┆ The       ┆ Diana     ┆ … ┆ 3-Oct-23  ┆ Kindle    ┆ 14.99     ┆ Kindle   │\n",
       "│           ┆ Autobiogr ┆ Witching  ┆ Helmuth   ┆   ┆           ┆ $14.99    ┆           ┆          │\n",
       "│           ┆ aphy      ┆ Year: A   ┆           ┆   ┆           ┆           ┆           ┆          │\n",
       "│           ┆           ┆ Memoir    ┆           ┆   ┆           ┆           ┆           ┆          │\n",
       "│           ┆           ┆ of…       ┆           ┆   ┆           ┆           ┆           ┆          │\n",
       "│ …         ┆ …         ┆ …         ┆ …         ┆ … ┆ …         ┆ …         ┆ …         ┆ …        │\n",
       "│ 46423     ┆ Romance   ┆ Things We ┆ Lucy      ┆ … ┆ 21-Feb-23 ┆ Kindle    ┆ 0.0       ┆ Kindle   │\n",
       "│           ┆           ┆ Hide from ┆ Score     ┆   ┆           ┆ Unlimited ┆           ┆ Unlimite │\n",
       "│           ┆           ┆ the Light ┆           ┆   ┆           ┆ $0.00     ┆           ┆ d        │\n",
       "│ 71461     ┆ Memoir &  ┆ Spare     ┆ Prince    ┆ … ┆ 10-Jan-23 ┆ Kindle    ┆ 17.99     ┆ Kindle   │\n",
       "│           ┆ Autobiogr ┆           ┆ Harry|J.R ┆   ┆           ┆ $17.99    ┆           ┆          │\n",
       "│           ┆ aphy      ┆           ┆ . Moehrin ┆   ┆           ┆           ┆           ┆          │\n",
       "│           ┆           ┆           ┆ ger       ┆   ┆           ┆           ┆           ┆          │\n",
       "│ 86468     ┆ Mystery & ┆ The House ┆ Freida    ┆ … ┆ 20-Feb-23 ┆ Kindle    ┆ 0.0       ┆ Kindle   │\n",
       "│           ┆ Thriller  ┆ maid's    ┆ McFadden  ┆   ┆           ┆ Unlimited ┆           ┆ Unlimite │\n",
       "│           ┆           ┆ Secret    ┆           ┆   ┆           ┆ $0.00     ┆           ┆ d        │\n",
       "│ 157687    ┆ Romance   ┆ Happy     ┆ Emily     ┆ … ┆ 25-Apr-23 ┆ Kindle    ┆ 11.99     ┆ Kindle   │\n",
       "│           ┆           ┆ Place     ┆ Henry     ┆   ┆           ┆ $11.99    ┆           ┆          │\n",
       "│ 397565    ┆ Romantasy ┆ Fourth    ┆ Rebecca   ┆ … ┆ 2-May-23  ┆ Kindle    ┆ 14.99     ┆ Kindle   │\n",
       "│           ┆           ┆ Wing      ┆ Yarros    ┆   ┆           ┆ $14.99    ┆           ┆          │\n",
       "└───────────┴───────────┴───────────┴───────────┴───┴───────────┴───────────┴───────────┴──────────┘"
      ]
     },
     "execution_count": 11,
     "metadata": {},
     "output_type": "execute_result"
    }
   ],
   "source": [
    "df.sort('Number of Ratings')\n",
    "# df['Readers Choice Category']"
   ]
  },
  {
   "cell_type": "code",
   "execution_count": 12,
   "id": "afe30520-2d6f-471c-862b-bcc1f9f202fb",
   "metadata": {},
   "outputs": [
    {
     "data": {
      "application/vnd.jupyter.widget-view+json": {
       "model_id": "bbd13d4b307a429b9b7c70791977617b",
       "version_major": 2,
       "version_minor": 0
      },
      "text/plain": [
       "interactive(children=(Dropdown(description='Column:', index=5, options=('Readers Choice Votes', 'Total Avg Rat…"
      ]
     },
     "metadata": {},
     "output_type": "display_data"
    },
    {
     "data": {
      "text/plain": [
       "<function __main__.do_kdeplot(column=Dropdown(description='Column:', index=5, options=('Readers Choice Votes', 'Total Avg Rating', 'Number of Ratings', 'Number of Reviews', 'Number of Pages', 'Kindle Price'), value='Kindle Price'), bw_adjust=FloatSlider(value=0.5, description='BW Adjust:', max=1.0, step=0.05))>"
      ]
     },
     "execution_count": 12,
     "metadata": {},
     "output_type": "execute_result"
    }
   ],
   "source": [
    "column = widgets.Dropdown(\n",
    "    options=[\n",
    "        'Readers Choice Votes',\n",
    "        'Total Avg Rating',\n",
    "        'Number of Ratings',\n",
    "        'Number of Reviews',\n",
    "        'Number of Pages',\n",
    "        'Kindle Price'],\n",
    "    value='Kindle Price',\n",
    "    description='Column:',\n",
    "    disabled=False,\n",
    ")\n",
    "bw_adjust = widgets.FloatSlider(\n",
    "    value=0.5,\n",
    "    min=0,\n",
    "    max=1.0,\n",
    "    step=0.05,\n",
    "    description='BW Adjust:',\n",
    "    disabled=False,\n",
    "    continuous_update=True,\n",
    "    orientation='horizontal',\n",
    "    readout=True,\n",
    "    readout_format='.2f',\n",
    ")\n",
    "\n",
    "def do_kdeplot(column=column, bw_adjust=bw_adjust):\n",
    "    # bw adjust adjusts the bandwidth of the kernel.\n",
    "    # When you set a smaller bw_adjust, you get more contouring, but more noise\n",
    "    # only use small values if you think your distribution is complex\n",
    "    # the \"cut\" parameter determines how much the curve should extend beyond extreme datapoints\n",
    "    # we set a \"0\" to not show negative values in the KDE curve\n",
    "    sns.displot(data=df, x=column, palette='Set3', kind='kde', bw_adjust=bw_adjust, cut=0)\n",
    "    \n",
    "    # for a pure histogram plot\n",
    "    # sns.displot(data=df, x='Kindle Price', palette='Set3')\n",
    "    sns.displot(data=df, x=column, palette='Set3', kde=True)\n",
    "    \n",
    "    plt.show()\n",
    "interact(do_kdeplot, column=column, bw_adjust=bw_adjust)"
   ]
  },
  {
   "cell_type": "code",
   "execution_count": null,
   "id": "257e2a53-88a7-4645-b028-f4b763b4de14",
   "metadata": {},
   "outputs": [],
   "source": []
  },
  {
   "cell_type": "code",
   "execution_count": 13,
   "id": "fa847cb2-1852-489c-9519-4f7ffd0d8fa6",
   "metadata": {},
   "outputs": [
    {
     "data": {
      "application/vnd.jupyter.widget-view+json": {
       "model_id": "7262abad41be48828f72c3979ba39055",
       "version_major": 2,
       "version_minor": 0
      },
      "text/plain": [
       "HBox(children=(Output(), SelectMultiple(description='Categories', index=(0, 1, 2, 3, 4, 5, 6, 7, 8, 9, 10, 11,…"
      ]
     },
     "metadata": {},
     "output_type": "display_data"
    }
   ],
   "source": [
    "options = list(df['Readers Choice Category'].unique())\n",
    "cols_to_show = widgets.SelectMultiple(\n",
    "    options=options,\n",
    "    value=options,\n",
    "    #rows=10,\n",
    "    description='Categories',\n",
    "    disabled=False,\n",
    "    layout=widgets.Layout(height='300px')\n",
    ")\n",
    "\n",
    "def show_kde_with_cols(cols_to_show):\n",
    "    \n",
    "    sns.displot(\n",
    "        data=df.filter(\n",
    "            pl.col('Readers Choice Category').is_in(cols_to_show)\n",
    "        ),\n",
    "        x='Kindle Price', kind='kde', hue='Readers Choice Category', bw_adjust=0.5, hue_order=options)\n",
    "    plt.show()\n",
    "\n",
    "\n",
    "out = interactive_output(show_kde_with_cols, {'cols_to_show': cols_to_show})\n",
    "display(HBox([out, cols_to_show]))"
   ]
  },
  {
   "cell_type": "code",
   "execution_count": 14,
   "id": "95326476-b490-4e05-a6b2-11192186f3f0",
   "metadata": {},
   "outputs": [
    {
     "name": "stdout",
     "output_type": "stream",
     "text": [
      "(40, 13)\n"
     ]
    },
    {
     "data": {
      "text/html": [
       "<div><style>\n",
       ".dataframe > thead > tr,\n",
       ".dataframe > tbody > tr {\n",
       "  text-align: right;\n",
       "  white-space: pre-wrap;\n",
       "}\n",
       "</style>\n",
       "<small>shape: (5, 13)</small><table border=\"1\" class=\"dataframe\"><thead><tr><th>Readers Choice Votes</th><th>Readers Choice Category</th><th>Title</th><th>Author</th><th>Total Avg Rating</th><th>Number of Ratings</th><th>Number of Reviews</th><th>Number of Pages</th><th>Edition</th><th>First Published date</th><th>Kindle Version and Price</th><th>Kindle Price</th><th>Kindle Version</th></tr><tr><td>i64</td><td>str</td><td>str</td><td>str</td><td>f64</td><td>i32</td><td>i32</td><td>i64</td><td>str</td><td>str</td><td>str</td><td>f64</td><td>cat</td></tr></thead><tbody><tr><td>21854</td><td>&quot;Fiction&quot;</td><td>&quot;Maame&quot;</td><td>&quot;Jessica George&quot;</td><td>4.08</td><td>62960</td><td>8664</td><td>320</td><td>&quot;Hardcover&quot;</td><td>&quot;31-Jan-23&quot;</td><td>&quot;Kindle Unlimited $0.00&quot;</td><td>0.0</td><td>&quot;Kindle Unlimited&quot;</td></tr><tr><td>18050</td><td>&quot;Fiction&quot;</td><td>&quot;The Collected Regrets of Clove…</td><td>&quot;Mikki Brammer&quot;</td><td>4.18</td><td>37341</td><td>5989</td><td>320</td><td>&quot;Hardcover&quot;</td><td>&quot;9-May-23&quot;</td><td>&quot;Kindle Unlimited $0.00&quot;</td><td>0.0</td><td>&quot;Kindle Unlimited&quot;</td></tr><tr><td>62211</td><td>&quot;Historical Fiction&quot;</td><td>&quot;Weyward&quot;</td><td>&quot;Emilia Hart&quot;</td><td>4.12</td><td>83461</td><td>11008</td><td>329</td><td>&quot;Hardcover&quot;</td><td>&quot;2-Feb-23&quot;</td><td>&quot;Kindle Unlimited $0.00&quot;</td><td>0.0</td><td>&quot;Kindle Unlimited&quot;</td></tr><tr><td>29977</td><td>&quot;Historical Fiction&quot;</td><td>&quot;The Echo of Old Books&quot;</td><td>&quot;Barbara  Davis&quot;</td><td>4.34</td><td>45487</td><td>3439</td><td>431</td><td>&quot;Kindle Edition&quot;</td><td>&quot;28-Mar-23&quot;</td><td>&quot;Kindle Unlimited $0.00&quot;</td><td>0.0</td><td>&quot;Kindle Unlimited&quot;</td></tr><tr><td>24150</td><td>&quot;Historical Fiction&quot;</td><td>&quot;Did You Hear About Kitty Karr?&quot;</td><td>&quot;Crystal Smith Paul&quot;</td><td>3.76</td><td>30281</td><td>3268</td><td>416</td><td>&quot;Hardcover&quot;</td><td>&quot;2-May-23&quot;</td><td>&quot;Kindle Unlimited $0.00&quot;</td><td>0.0</td><td>&quot;Kindle Unlimited&quot;</td></tr></tbody></table></div>"
      ],
      "text/plain": [
       "shape: (5, 13)\n",
       "┌───────────┬───────────┬───────────┬───────────┬───┬───────────┬───────────┬───────────┬──────────┐\n",
       "│ Readers   ┆ Readers   ┆ Title     ┆ Author    ┆ … ┆ First     ┆ Kindle    ┆ Kindle    ┆ Kindle   │\n",
       "│ Choice    ┆ Choice    ┆ ---       ┆ ---       ┆   ┆ Published ┆ Version   ┆ Price     ┆ Version  │\n",
       "│ Votes     ┆ Category  ┆ str       ┆ str       ┆   ┆ date      ┆ and Price ┆ ---       ┆ ---      │\n",
       "│ ---       ┆ ---       ┆           ┆           ┆   ┆ ---       ┆ ---       ┆ f64       ┆ cat      │\n",
       "│ i64       ┆ str       ┆           ┆           ┆   ┆ str       ┆ str       ┆           ┆          │\n",
       "╞═══════════╪═══════════╪═══════════╪═══════════╪═══╪═══════════╪═══════════╪═══════════╪══════════╡\n",
       "│ 21854     ┆ Fiction   ┆ Maame     ┆ Jessica   ┆ … ┆ 31-Jan-23 ┆ Kindle    ┆ 0.0       ┆ Kindle   │\n",
       "│           ┆           ┆           ┆ George    ┆   ┆           ┆ Unlimited ┆           ┆ Unlimite │\n",
       "│           ┆           ┆           ┆           ┆   ┆           ┆ $0.00     ┆           ┆ d        │\n",
       "│ 18050     ┆ Fiction   ┆ The       ┆ Mikki     ┆ … ┆ 9-May-23  ┆ Kindle    ┆ 0.0       ┆ Kindle   │\n",
       "│           ┆           ┆ Collected ┆ Brammer   ┆   ┆           ┆ Unlimited ┆           ┆ Unlimite │\n",
       "│           ┆           ┆ Regrets   ┆           ┆   ┆           ┆ $0.00     ┆           ┆ d        │\n",
       "│           ┆           ┆ of Clove… ┆           ┆   ┆           ┆           ┆           ┆          │\n",
       "│ 62211     ┆ Historica ┆ Weyward   ┆ Emilia    ┆ … ┆ 2-Feb-23  ┆ Kindle    ┆ 0.0       ┆ Kindle   │\n",
       "│           ┆ l Fiction ┆           ┆ Hart      ┆   ┆           ┆ Unlimited ┆           ┆ Unlimite │\n",
       "│           ┆           ┆           ┆           ┆   ┆           ┆ $0.00     ┆           ┆ d        │\n",
       "│ 29977     ┆ Historica ┆ The Echo  ┆ Barbara   ┆ … ┆ 28-Mar-23 ┆ Kindle    ┆ 0.0       ┆ Kindle   │\n",
       "│           ┆ l Fiction ┆ of Old    ┆ Davis     ┆   ┆           ┆ Unlimited ┆           ┆ Unlimite │\n",
       "│           ┆           ┆ Books     ┆           ┆   ┆           ┆ $0.00     ┆           ┆ d        │\n",
       "│ 24150     ┆ Historica ┆ Did You   ┆ Crystal   ┆ … ┆ 2-May-23  ┆ Kindle    ┆ 0.0       ┆ Kindle   │\n",
       "│           ┆ l Fiction ┆ Hear      ┆ Smith     ┆   ┆           ┆ Unlimited ┆           ┆ Unlimite │\n",
       "│           ┆           ┆ About     ┆ Paul      ┆   ┆           ┆ $0.00     ┆           ┆ d        │\n",
       "│           ┆           ┆ Kitty     ┆           ┆   ┆           ┆           ┆           ┆          │\n",
       "│           ┆           ┆ Karr?     ┆           ┆   ┆           ┆           ┆           ┆          │\n",
       "└───────────┴───────────┴───────────┴───────────┴───┴───────────┴───────────┴───────────┴──────────┘"
      ]
     },
     "execution_count": 14,
     "metadata": {},
     "output_type": "execute_result"
    }
   ],
   "source": [
    "# print('$0 rows', df[df['Kindle Price'] == 0].shape)\n",
    "# df[df['Kindle Price'] == 0].head()\n",
    "\n",
    "free_df = df.filter(pl.col('Kindle Price') == 0)\n",
    "print(free_df.shape)\n",
    "free_df.head()"
   ]
  },
  {
   "cell_type": "code",
   "execution_count": 15,
   "id": "5f5b5ca7-064f-4022-94a5-abf9713840d3",
   "metadata": {},
   "outputs": [
    {
     "data": {
      "text/html": [
       "<div><style>\n",
       ".dataframe > thead > tr,\n",
       ".dataframe > tbody > tr {\n",
       "  text-align: right;\n",
       "  white-space: pre-wrap;\n",
       "}\n",
       "</style>\n",
       "<small>shape: (15, 7)</small><table border=\"1\" class=\"dataframe\"><thead><tr><th>Readers Choice Category</th><th>Readers Choice Votes</th><th>Total Avg Rating</th><th>Number of Ratings</th><th>Number of Reviews</th><th>Number of Pages</th><th>Kindle Price</th></tr><tr><td>str</td><td>i64</td><td>f64</td><td>i32</td><td>i32</td><td>f64</td><td>f64</td></tr></thead><tbody><tr><td>&quot;Romance&quot;</td><td>645601</td><td>4.06</td><td>2737676</td><td>336747</td><td>398.0</td><td>6.99</td></tr><tr><td>&quot;Fiction&quot;</td><td>587718</td><td>3.95</td><td>1288841</td><td>157445</td><td>328.0</td><td>14.99</td></tr><tr><td>&quot;Romantasy&quot;</td><td>572812</td><td>4.07</td><td>1387830</td><td>203928</td><td>506.0</td><td>5.49</td></tr><tr><td>&quot;Mystery &amp; Thriller&quot;</td><td>519745</td><td>4.05</td><td>1673792</td><td>181312</td><td>365.5</td><td>14.99</td></tr><tr><td>&quot;Fantasy&quot;</td><td>456020</td><td>4.1</td><td>523942</td><td>93625</td><td>407.5</td><td>14.73</td></tr><tr><td>&hellip;</td><td>&hellip;</td><td>&hellip;</td><td>&hellip;</td><td>&hellip;</td><td>&hellip;</td><td>&hellip;</td></tr><tr><td>&quot;Horror&quot;</td><td>295053</td><td>3.91</td><td>316925</td><td>59709</td><td>360.0</td><td>14.99</td></tr><tr><td>&quot;Debut Novel&quot;</td><td>285135</td><td>4.08</td><td>566320</td><td>77107</td><td>344.0</td><td>12.99</td></tr><tr><td>&quot;Nonfiction&quot;</td><td>224029</td><td>4.18</td><td>185864</td><td>21393</td><td>320.0</td><td>14.99</td></tr><tr><td>&quot;Humor&quot;</td><td>217924</td><td>4.06</td><td>72821</td><td>11377</td><td>288.0</td><td>13.99</td></tr><tr><td>&quot;History &amp; Biography&quot;</td><td>217017</td><td>4.19</td><td>150726</td><td>18142</td><td>390.5</td><td>14.99</td></tr></tbody></table></div>"
      ],
      "text/plain": [
       "shape: (15, 7)\n",
       "┌─────────────────────────┬─────────┬───────────┬───────────┬───────────┬─────────────────┬────────┐\n",
       "│ Readers Choice Category ┆ Readers ┆ Total Avg ┆ Number of ┆ Number of ┆ Number of Pages ┆ Kindle │\n",
       "│ ---                     ┆ Choice  ┆ Rating    ┆ Ratings   ┆ Reviews   ┆ ---             ┆ Price  │\n",
       "│ str                     ┆ Votes   ┆ ---       ┆ ---       ┆ ---       ┆ f64             ┆ ---    │\n",
       "│                         ┆ ---     ┆ f64       ┆ i32       ┆ i32       ┆                 ┆ f64    │\n",
       "│                         ┆ i64     ┆           ┆           ┆           ┆                 ┆        │\n",
       "╞═════════════════════════╪═════════╪═══════════╪═══════════╪═══════════╪═════════════════╪════════╡\n",
       "│ Romance                 ┆ 645601  ┆ 4.06      ┆ 2737676   ┆ 336747    ┆ 398.0           ┆ 6.99   │\n",
       "│ Fiction                 ┆ 587718  ┆ 3.95      ┆ 1288841   ┆ 157445    ┆ 328.0           ┆ 14.99  │\n",
       "│ Romantasy               ┆ 572812  ┆ 4.07      ┆ 1387830   ┆ 203928    ┆ 506.0           ┆ 5.49   │\n",
       "│ Mystery & Thriller      ┆ 519745  ┆ 4.05      ┆ 1673792   ┆ 181312    ┆ 365.5           ┆ 14.99  │\n",
       "│ Fantasy                 ┆ 456020  ┆ 4.1       ┆ 523942    ┆ 93625     ┆ 407.5           ┆ 14.73  │\n",
       "│ …                       ┆ …       ┆ …         ┆ …         ┆ …         ┆ …               ┆ …      │\n",
       "│ Horror                  ┆ 295053  ┆ 3.91      ┆ 316925    ┆ 59709     ┆ 360.0           ┆ 14.99  │\n",
       "│ Debut Novel             ┆ 285135  ┆ 4.08      ┆ 566320    ┆ 77107     ┆ 344.0           ┆ 12.99  │\n",
       "│ Nonfiction              ┆ 224029  ┆ 4.18      ┆ 185864    ┆ 21393     ┆ 320.0           ┆ 14.99  │\n",
       "│ Humor                   ┆ 217924  ┆ 4.06      ┆ 72821     ┆ 11377     ┆ 288.0           ┆ 13.99  │\n",
       "│ History & Biography     ┆ 217017  ┆ 4.19      ┆ 150726    ┆ 18142     ┆ 390.5           ┆ 14.99  │\n",
       "└─────────────────────────┴─────────┴───────────┴───────────┴───────────┴─────────────────┴────────┘"
      ]
     },
     "execution_count": 15,
     "metadata": {},
     "output_type": "execute_result"
    }
   ],
   "source": [
    "result_df"
   ]
  },
  {
   "cell_type": "code",
   "execution_count": 25,
   "id": "db4be86d-a2f4-46ae-ab0b-0b0f47df4bee",
   "metadata": {},
   "outputs": [
    {
     "data": {
      "application/vnd.jupyter.widget-view+json": {
       "model_id": "086b4140f69b45eb8d637d880355ee7e",
       "version_major": 2,
       "version_minor": 0
      },
      "text/plain": [
       "interactive(children=(SelectionSlider(description='Color Map:', options=('coolwarm', 'BrBG', 'PiYG', 'PRGn', '…"
      ]
     },
     "metadata": {},
     "output_type": "display_data"
    },
    {
     "data": {
      "text/plain": [
       "<function __main__.show_corr(cmap, reversed)>"
      ]
     },
     "execution_count": 25,
     "metadata": {},
     "output_type": "execute_result"
    }
   ],
   "source": [
    "# Assign the columns\n",
    "columns_of_interest = ['Number of Reviews', 'Number of Ratings', 'Number of Pages', 'Total Avg Rating', 'Readers Choice Votes', 'Kindle Price']\n",
    "diverging_cmaps = [\n",
    "    'coolwarm', 'BrBG', 'PiYG', 'PRGn', 'PuOr', 'RdBu', 'RdGy', \n",
    "    'RdYlBu', 'RdYlGn', 'Spectral', 'bwr', 'seismic'\n",
    "]\n",
    "cmap_widget = widgets.SelectionSlider(\n",
    "    options=diverging_cmaps,\n",
    "    value=diverging_cmaps[0],\n",
    "    description='Color Map:',\n",
    "    disabled=False,\n",
    "    continuous_update=True,\n",
    "    orientation='horizontal',\n",
    "    readout=True,\n",
    ")\n",
    "rev_widget = widgets.Checkbox(\n",
    "    value=False,\n",
    "    description='Reverse: ',\n",
    "    disabled=False,\n",
    "    indent=False\n",
    ")\n",
    "# Calculate the correlation matrix\n",
    "correlation_matrix = df[columns_of_interest].corr()\n",
    "def show_corr(cmap, reversed):\n",
    "    # Display the correlation matrix\n",
    "    plt.figure(figsize=(10, 8))\n",
    "    if reversed:\n",
    "        cmap += '_r'\n",
    "    \n",
    "    # BrBG is another cool heatmap\n",
    "    sns.heatmap(correlation_matrix, annot=True, cmap=cmap, fmt=\".2f\", linewidths=.5)\n",
    "    plt.title('Correlation Matrix')\n",
    "    plt.xticks(rotation=30, ha='right')\n",
    "    plt.show()\n",
    "\n",
    "interact(show_corr, cmap=cmap_widget, reversed=rev_widget)"
   ]
  },
  {
   "cell_type": "code",
   "execution_count": null,
   "id": "be579639",
   "metadata": {},
   "outputs": [],
   "source": []
  }
 ],
 "metadata": {
  "kernelspec": {
   "display_name": "Python 3 (ipykernel)",
   "language": "python",
   "name": "python3"
  },
  "language_info": {
   "codemirror_mode": {
    "name": "ipython",
    "version": 3
   },
   "file_extension": ".py",
   "mimetype": "text/x-python",
   "name": "python",
   "nbconvert_exporter": "python",
   "pygments_lexer": "ipython3",
   "version": "3.10.12"
  }
 },
 "nbformat": 4,
 "nbformat_minor": 5
}
